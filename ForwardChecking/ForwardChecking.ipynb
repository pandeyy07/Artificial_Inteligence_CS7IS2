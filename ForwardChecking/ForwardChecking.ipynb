{
  "nbformat": 4,
  "nbformat_minor": 0,
  "metadata": {
    "kernelspec": {
      "display_name": "Python 3",
      "language": "python",
      "name": "python3"
    },
    "language_info": {
      "codemirror_mode": {
        "name": "ipython",
        "version": 3
      },
      "file_extension": ".py",
      "mimetype": "text/x-python",
      "name": "python",
      "nbconvert_exporter": "python",
      "pygments_lexer": "ipython3",
      "version": "3.6.5"
    },
    "colab": {
      "name": "Futoshiki.ipynb",
      "provenance": []
    }
  },
  "cells": [
    {
      "cell_type": "code",
      "metadata": {
        "id": "qEQ_aIkUD_hT",
        "colab_type": "code",
        "colab": {}
      },
      "source": [
        "#importing the libraries\n",
        "from functools import reduce  #reduce is used to apply a particular function passed in its argument \n",
        "                              #to all of the list elements mentioned in the sequence passed along.\n",
        "from functools import partial #Partial functions allow one to derive a function with x parameters to a function with fewer \n",
        "                              #parameters and fixed values set for the more limited function."
      ],
      "execution_count": 0,
      "outputs": []
    },
    {
      "cell_type": "code",
      "metadata": {
        "id": "ugDJ47LKD_hZ",
        "colab_type": "code",
        "colab": {}
      },
      "source": [
        "import operator #The operator module exports a set of efficient functions corresponding to the intrinsic operators of Python\n",
        "import time #Python has a module named time to handle time-related tasks.\n",
        "import queue # Library To use the standard functions of the queue"
      ],
      "execution_count": 0,
      "outputs": []
    },
    {
      "cell_type": "code",
      "metadata": {
        "id": "uDMIB9KVD_hc",
        "colab_type": "code",
        "colab": {}
      },
      "source": [
        "import re #Python’s built-in “re” module provides excellent support for regular expressions, with a \n",
        "          #modern and complete regex flavor.\n",
        "import sys  #The sys module in Python lets us access system-specific parameters and functions.\n",
        "            #sys gives us information about constants, functions, and methods of the interpreter.\n",
        "\n",
        "import functools #The functools module is for higher-order functions: functions that act on or return other functions.\n"
      ],
      "execution_count": 0,
      "outputs": []
    },
    {
      "cell_type": "code",
      "metadata": {
        "id": "z0fQziMRD_hg",
        "colab_type": "code",
        "colab": {}
      },
      "source": [
        "class Variable_Constraint: #A class for constraint Variables\n",
        "    def __init__(self, dom, Nam):\n",
        "        self._Domain = [v for v in dom]\n",
        "        self.name = Nam\n",
        "\n",
        "\n",
        "class Uni_Constraints: # A class for the unary Constraints\n",
        "    def __init__(self, value, Method): #Parameterized Constructor for unary constraint class\n",
        "        self.var = value   # sets the variable values\n",
        "        self.func = Method \n",
        "\n",
        "\n",
        "class Bi_Constraints:\n",
        "    def __init__(self, Var_1, Var_2, _Function): #Parametrized Constructor of Binary constraints class \n",
        "        self.var1 = Var_1\n",
        "        self.var2 = Var_2\n",
        "        self.func = _Function"
      ],
      "execution_count": 0,
      "outputs": []
    },
    {
      "cell_type": "code",
      "metadata": {
        "id": "zoY2YGyMD_hj",
        "colab_type": "code",
        "colab": {}
      },
      "source": [
        "#Standard operations of Mathematics \n",
        "ops = {\n",
        "       '<': operator.lt, # Less Than operatorl\n",
        "       '<=': operator.le, # Less than or equal to operator \n",
        "       '>': operator.gt, # Greater than operator\n",
        "       '>=': operator.ge, # Greater than or equal to operator\n",
        "       }"
      ],
      "execution_count": 0,
      "outputs": []
    },
    {
      "cell_type": "code",
      "metadata": {
        "id": "ikbE5z3oD_hn",
        "colab_type": "code",
        "colab": {}
      },
      "source": [
        "def _Function(Var_, value): # A function to set he values of the variables \n",
        "    return Var_ == value   #Assigning values\n",
        "\n",
        "\n",
        "class Var_Constr:     # A class for constraint variables\n",
        "    def __init__(self, _Dom, Var_Name):  #Parameterized contsructor\n",
        "        self._Domain = [v for v in _Dom] \n",
        "        self.name = Var_Name "
      ],
      "execution_count": 0,
      "outputs": []
    },
    {
      "cell_type": "code",
      "metadata": {
        "id": "lVVIvwHkD_hs",
        "colab_type": "code",
        "colab": {}
      },
      "source": [
        "class Uni_Class:  # A class for unary constraint variables\n",
        "    def __init__(self, _Vari, _Func): #Parameterized contsructor\n",
        "        self.var = _Vari\n",
        "        self.func = _Func\n",
        "\n",
        "\n",
        "class Bi_Constr_Class:  # # A class for Binary constraint variables\n",
        "    def __init__(self, _Var_, __Var_, __Function): #Parameterized contsructor\n",
        "        self.var1 = _Var_\n",
        "        self.var2 = __Var_\n",
        "        self.func = __Function\n",
        "\n",
        "def Not_Same(_Arr_Constr, _Var_Arr):  # Find the different constraints\n",
        "    _Expr = lambda x, y: x != y \n",
        "    iterator_1=0  # iterator for outer while loop\n",
        "    while iterator_1 < len(_Var_Arr): \n",
        "        iterator_2=0 #iterator for inner while loop\n",
        "        while iterator_2 < len(_Var_Arr):\n",
        "            if (iterator_1 != iterator_2): #check for different values\n",
        "                _Arr_Constr.append(Bi_Constr_Class(_Var_Arr[iterator_1], _Var_Arr[iterator_2], _Expr))#appends values in arr\n",
        "            iterator_2+=1 \n",
        "        iterator_1=iterator_1+1 "
      ],
      "execution_count": 0,
      "outputs": []
    },
    {
      "cell_type": "code",
      "metadata": {
        "id": "joVp6F0DD_hw",
        "colab_type": "code",
        "colab": {}
      },
      "source": [
        "def Futoshiki_Board(Test_Case_Number):\n",
        "       \n",
        "       \n",
        "       \n",
        "        lines = open('testFutoshiki.txt').readlines()  #open file and store it in lines variable\n",
        "        _Testing_Line = Test_Case_Number \n",
        "        l = lines[_Testing_Line]\n",
        "        l = re.sub('[ ]','',l)\n",
        "        _Row_Array  = []  #Row array\n",
        "        _Col_Array  = []#Col array\n",
        "        Numbers = eval(re.findall('^\\d+',l)[0]) #find and evaluate and store in numbers variable\n",
        "        l = re.sub('^\\d+','',l)\n",
        "\n",
        "        _Domain = [] #Domain array to store domains \n",
        "        for point in range(Numbers):\n",
        "                _Domain.append(point+1) #appoend the numbers in domain array\n",
        "\n",
        "        \n",
        "        Var_Dict = dict() # Variable dictionary to store keys and variables\n",
        "        i=0       # iterator \n",
        "        while i < Numbers: # while loop\n",
        "                _Row_Array.append(chr(ord('A') + i)) #appends element\n",
        "                _Col_Array.append(chr(ord('1') + i))# append in array\n",
        "                i=i+1 # increment in the loop\n",
        "        _Variable_Names = [ x+y for x in _Row_Array for y in _Col_Array ] #find all variable names\n",
        "\n",
        "        for _Name in _Variable_Names: # Sotre all variable names in the variable dictionary\n",
        "                Var_Dict[_Name] = Var_Constr( _Domain,_Name )\n",
        "\n",
        "        __Constr_Arr=re.findall('\\w+\\W+\\w+',l) #find all and store in the constraint array\n",
        "        \n",
        "        Uni_Const_Array = [] #set Uni_Class\n",
        "        Bi_Const_Array = []  # Bi_Constr_Class\n",
        "        for _constr in __Constr_Arr: #loop for checking constraints in the constraints array\n",
        "                if re.findall('\\w+\\d+<\\w+\\d+',_constr) or re.findall('\\w+\\d+>\\w+\\d+',_constr):#check and find all\n",
        "                        _L_Var = re.findall('^\\w+\\d+',_constr)[0]\n",
        "                        _R_Var = re.findall('\\w+\\d+$',_constr)[0]\n",
        "                        op = re.findall('\\W',_constr)[0]\n",
        "                        if op == '>': #if Operand is greater than \n",
        "                            fn = lambda x,y: x > y\n",
        "                            fn1 = lambda x,y: x < y\n",
        "                        elif op == '<': # if operand is less than\n",
        "                            fn = lambda x,y: x < y\n",
        "                            fn1 = lambda x,y: x > y\n",
        "                        Bi_Const_Array.append(Bi_Constr_Class(Var_Dict[_L_Var], Var_Dict[_R_Var], fn))#appends in array\n",
        "                        Bi_Const_Array.append(Bi_Constr_Class(Var_Dict[_R_Var], Var_Dict[_L_Var], fn1))\n",
        "                else:\n",
        "                        if re.findall('\\w+\\d+=\\d+',_constr): # Finds \n",
        "                                var = re.findall('^\\w+\\d+',_constr)[0] #find variables\n",
        "                                value = re.findall('\\d+$',_constr)[0] #find values\n",
        "                        elif re.findall('\\d+=\\w+\\d+',c):\n",
        "                                var = re.findall('\\w+\\d+$',_constr)[0]\n",
        "                                value = re.findall('^\\d+$',_constr)[0]\n",
        "                        fn = functools.partial(_Function, value = int(value))\n",
        "                        Uni_Const_Array.append(Uni_Class(Var_Dict[var], fn)) #appendsi n unary constraint array\n",
        "\n",
        "        \n",
        "        for _Row in _Row_Array:  #check the row array\n",
        "            _Arr_Row = [] \n",
        "            for iterater in Var_Dict.keys():  \n",
        "                if (str(iterater).startswith(_Row)):\n",
        "                    _Arr_Row.append(Var_Dict[iterater]) #appends in row array\n",
        "            Not_Same(Bi_Const_Array, _Arr_Row)  # function call\n",
        "\n",
        "        for _Col in _Col_Array: #loop for col array\n",
        "            _Arr_Col = []\n",
        "            for k in Var_Dict.keys():  \n",
        "                key = str(k)\n",
        "                if (key[1] == _Col):\n",
        "                    _Arr_Col.append(Var_Dict[k]) #appends in col array\n",
        "            Not_Same(Bi_Const_Array, _Arr_Col)\n",
        "        return Var_Dict, Numbers, Uni_Const_Array, Bi_Const_Array  #return the variable and arrays\n"
      ],
      "execution_count": 0,
      "outputs": []
    },
    {
      "cell_type": "code",
      "metadata": {
        "id": "lRhTbWHrD_h0",
        "colab_type": "code",
        "colab": {}
      },
      "source": [
        "def _Consistency_node(UnaryConstraints): # A function for the unary constraints \n",
        "    _Domain = list(UnaryConstraints.var._Domain)\n",
        "    for unicon in _Domain:\n",
        "        if not UnaryConstraints.func(unicon):\n",
        "            UnaryConstraints.var._Domain.remove(unicon) #Removes the unary constraints"
      ],
      "execution_count": 0,
      "outputs": []
    },
    {
      "cell_type": "code",
      "metadata": {
        "id": "80jEU6GND_h5",
        "colab_type": "code",
        "colab": {}
      },
      "source": [
        "def Repitition(Bi_Cons): # function for constraints\n",
        "    _Removed = []  #To store deleted elements\n",
        "    if isinstance(Bi_Cons, Uni_Class): #if object of class\n",
        "        dom = list(Bi_Cons.var._Domain) \n",
        "        for _iter_var in dom:\n",
        "            if not Bi_Cons.func(_iter_var):\n",
        "                Bi_Cons.var._Domain.remove(_iter_var)\n",
        "        return True\n",
        "    elif isinstance(Bi_Cons, Bi_Constr_Class): #To check if object of the class\n",
        "        _First_Domain = list(Bi_Cons.var1._Domain) \n",
        "        _Second_Domain = list(Bi_Cons.var2._Domain)\n",
        "\n",
        "        for point in _First_Domain: \n",
        "            Removal_need = True # Set the boolean variable to true\n",
        "            for y in _Second_Domain: \n",
        "                if point == y: #compare the value using equal equal to operator\n",
        "                    continue\n",
        "                if True == Bi_Cons.func(point, y): #for Binary constraints\n",
        "                    Removal_need = False \n",
        "                    break\n",
        "            if Removal_need: #check\n",
        "                _Removed.append(point) #append the elements in the removed array\n",
        "                Bi_Cons.var1._Domain.remove(point) # removes the elements \n",
        "        return _Removed # function return the removed array\n",
        "\n"
      ],
      "execution_count": 0,
      "outputs": []
    },
    {
      "cell_type": "code",
      "metadata": {
        "id": "VeTRjzYwD_h9",
        "colab_type": "code",
        "colab": {}
      },
      "source": [
        "def Allocation_Display(Allocation, Total_Number): # function for printing the assignments\n",
        "    if not Allocation: # check for consistency\n",
        "        print(\"Problem not consistent\")\n",
        "        return\n",
        "    Token = 0 \n",
        "    for k in sorted(Allocation.keys()):\n",
        "        print(k, '{', Allocation[k], '}, ', end=\"\")\n",
        "        Token += 1\n",
        "        if 0 == Token % Total_Number: #Moduls operator\n",
        "            print(' ')\n"
      ],
      "execution_count": 0,
      "outputs": []
    },
    {
      "cell_type": "code",
      "metadata": {
        "id": "GUA6RLgSD_iB",
        "colab_type": "code",
        "colab": {}
      },
      "source": [
        "def Variable_Selection(Allocation, Var_Dict): #function for selecting variable\n",
        "        for i in Var_Dict.keys():\n",
        "            if i not in Allocation:\n",
        "                return Var_Dict[i] # return the variable dictionary"
      ],
      "execution_count": 0,
      "outputs": []
    },
    {
      "cell_type": "code",
      "metadata": {
        "id": "4tctZ1L6D_ia",
        "colab_type": "code",
        "colab": {}
      },
      "source": [
        "def Reverse_Pathing(size, Var_Dict, _Constr): # A function for backtracking\n",
        "    for u in _Constr[0]: # for loop\n",
        "        _Consistency_node(u) # function call for the checking the consistency of the node\n",
        "    return Reverse_Path({}, size, Var_Dict, _Constr) # return the backtrack"
      ],
      "execution_count": 0,
      "outputs": []
    },
    {
      "cell_type": "code",
      "metadata": {
        "id": "hmBUy7wsD_id",
        "colab_type": "code",
        "colab": {}
      },
      "source": [
        "def Reverse_Path(Allocation, size, Var_Dict, _Constr):  # Backtracking function/Method\n",
        "    if len(Allocation) == size*size: # check he size of allocation\n",
        "        return Allocation  # return the allocation \n",
        "    variable = Variable_Selection(Allocation, Var_Dict)  # select the variable from variable selection function\n",
        "    for value in variable._Domain: \n",
        "        Allocation[variable.name] = value \n",
        "        _Infer_Dict = Function_Constraints(_Constr, Var_Dict, variable, value)\n",
        "        if 'inconsistent' not in _Infer_Dict.keys(): # if condition\n",
        "            result = Reverse_Path(Allocation, size, Var_Dict, _Constr) # function call to back track\n",
        "            if result:  #condition\n",
        "                return result # return the result \n",
        "        Allocation.pop(variable.name)\n",
        "        if 'inconsistent' in _Infer_Dict.keys():\n",
        "            _Infer_Dict.pop('inconsistent')\n",
        "        for i in _Infer_Dict.keys():\n",
        "            Var_Dict[i]._Domain += _Infer_Dict[i]\n",
        "    return False\n",
        "\n",
        "global counter\n",
        "counter=0"
      ],
      "execution_count": 0,
      "outputs": []
    },
    {
      "cell_type": "code",
      "metadata": {
        "id": "1AFar-NjD_ig",
        "colab_type": "code",
        "colab": {}
      },
      "source": [
        "def Function_Constraints(constraints, Var_Dict, _change_, value): \n",
        "    _Infer_Dict = {} # A dictionary for inference\n",
        "    red = [] # empty array initialization\n",
        "    for iteratr in _change_._Domain: \n",
        "        if iteratr != value:\n",
        "            red.append(iteratr) # appends in red array\n",
        "    _change_._Domain = [value]\n",
        "    _Infer_Dict[_change_.name] = red # inference dictionary\n",
        "    worklist = queue.Queue()  \n",
        "    consistent = True  # sets the boolean variable consistent to true\n",
        "\n",
        "    for c in constraints[1]: \n",
        "        if c.var2.name == _change_.name:\n",
        "            worklist.put(c)\n",
        "            \n",
        "    while not worklist.empty():  # while using empty() function\n",
        "        global counter\n",
        "        counter += 1\n",
        "        constraint = worklist.get()  # get the element from worklist\n",
        "        _Removed = Repitition(constraint) # a function call to repitition\n",
        "        if _Removed: \n",
        "            for i in constraints[1]:\n",
        "                if i.var2.name == constraint.var1.name:\n",
        "                    worklist.put(i)\n",
        "                    \n",
        "            if constraint.var1.name not in _Infer_Dict.keys():\n",
        "                _Infer_Dict[constraint.var1.name] = _Removed\n",
        "            else:\n",
        "                _Infer_Dict[constraint.var1.name] += _Removed\n",
        "            if not constraint.var1._Domain:\n",
        "                _Infer_Dict['inconsistent'] = True\n",
        "                consistent = False\n",
        "                break\n",
        "    return _Infer_Dict\n"
      ],
      "execution_count": 0,
      "outputs": []
    },
    {
      "cell_type": "code",
      "metadata": {
        "id": "5Ch-CqiiD_ij",
        "colab_type": "code",
        "colab": {}
      },
      "source": [
        "def Play_futoshiki(Test_Case_Number): # A function to try futoshiki\n",
        "    print(\"<---------------------------------Board %d--------------------------------->\"%(Test_Case_Number+1))\n",
        "    Var_Dict, n , Uni_Const_Array, Bi_Const_Array = Futoshiki_Board(Test_Case_Number )\n",
        "    cons = [Uni_Const_Array, Bi_Const_Array] # constraitn\n",
        "    t1 = time.clock() # Get the time in seconds of computation\n",
        "    result = Reverse_Pathing(n, Var_Dict, cons) # A function call and store results in the result variable\n",
        "    t2 = time.clock() # Get time of computation\n",
        "    print(\"\\nForward Checking finished in \", counter, \"counts\")\n",
        "    print(\"Running Time : %.4f seconds\" % (t2 - t1)) # subract times taken\n",
        "    Allocation_Display(result, n) # a function call\n",
        "    print(\"\\n\")\n"
      ],
      "execution_count": 0,
      "outputs": []
    },
    {
      "cell_type": "code",
      "metadata": {
        "id": "vW5SwasuD_im",
        "colab_type": "code",
        "colab": {
          "base_uri": "https://localhost:8080/",
          "height": 799
        },
        "outputId": "606a27fb-9caa-43dc-cee0-87514a86e78e"
      },
      "source": [
        "#Driver function \n",
        "if __name__ == '__main__':\n",
        "   \n",
        "    boards=4 # number of boards \n",
        "    board_counter=0  # A counter for while loop \n",
        "    while board_counter<boards:\n",
        "        Play_futoshiki(board_counter) # function call\n",
        "        board_counter+=1 # increment in the boad_counter variable by 1\n",
        "        global counter # a global varialble counter\n",
        "        counter = 0 # set the variable value to zero"
      ],
      "execution_count": 17,
      "outputs": [
        {
          "output_type": "stream",
          "text": [
            "<---------------------------------Board 1--------------------------------->\n",
            "\n",
            "Forward Checking finished in  631 counts\n",
            "Running Time : 0.0093 seconds\n",
            "A1 { 2 }, A2 { 1 }, A3 { 3 }, A4 { 4 },  \n",
            "B1 { 1 }, B2 { 4 }, B3 { 2 }, B4 { 3 },  \n",
            "C1 { 3 }, C2 { 2 }, C3 { 4 }, C4 { 1 },  \n",
            "D1 { 4 }, D2 { 3 }, D3 { 1 }, D4 { 2 },  \n",
            "\n",
            "\n",
            "<---------------------------------Board 2--------------------------------->\n",
            "\n",
            "Forward Checking finished in  2137 counts\n",
            "Running Time : 0.0274 seconds\n",
            "A1 { 5 }, A2 { 2 }, A3 { 3 }, A4 { 4 }, A5 { 1 },  \n",
            "B1 { 2 }, B2 { 4 }, B3 { 1 }, B4 { 3 }, B5 { 5 },  \n",
            "C1 { 1 }, C2 { 3 }, C3 { 4 }, C4 { 5 }, C5 { 2 },  \n",
            "D1 { 3 }, D2 { 5 }, D3 { 2 }, D4 { 1 }, D5 { 4 },  \n",
            "E1 { 4 }, E2 { 1 }, E3 { 5 }, E4 { 2 }, E5 { 3 },  \n",
            "\n",
            "\n",
            "<---------------------------------Board 3--------------------------------->\n",
            "\n",
            "Forward Checking finished in  5643 counts\n",
            "Running Time : 0.0755 seconds\n",
            "A1 { 1 }, A2 { 6 }, A3 { 2 }, A4 { 3 }, A5 { 4 }, A6 { 5 },  \n",
            "B1 { 5 }, B2 { 3 }, B3 { 4 }, B4 { 1 }, B5 { 2 }, B6 { 6 },  \n",
            "C1 { 2 }, C2 { 1 }, C3 { 5 }, C4 { 6 }, C5 { 3 }, C6 { 4 },  \n",
            "D1 { 6 }, D2 { 2 }, D3 { 1 }, D4 { 4 }, D5 { 5 }, D6 { 3 },  \n",
            "E1 { 3 }, E2 { 4 }, E3 { 6 }, E4 { 5 }, E5 { 1 }, E6 { 2 },  \n",
            "F1 { 4 }, F2 { 5 }, F3 { 3 }, F4 { 2 }, F5 { 6 }, F6 { 1 },  \n",
            "\n",
            "\n",
            "<---------------------------------Board 4--------------------------------->\n",
            "\n",
            "Forward Checking finished in  31544 counts\n",
            "Running Time : 0.6056 seconds\n",
            "A1 { 1 }, A2 { 5 }, A3 { 4 }, A4 { 6 }, A5 { 2 }, A6 { 3 }, A7 { 7 },  \n",
            "B1 { 3 }, B2 { 2 }, B3 { 7 }, B4 { 1 }, B5 { 6 }, B6 { 4 }, B7 { 5 },  \n",
            "C1 { 5 }, C2 { 4 }, C3 { 3 }, C4 { 2 }, C5 { 7 }, C6 { 1 }, C7 { 6 },  \n",
            "D1 { 7 }, D2 { 3 }, D3 { 6 }, D4 { 5 }, D5 { 1 }, D6 { 2 }, D7 { 4 },  \n",
            "E1 { 2 }, E2 { 7 }, E3 { 5 }, E4 { 3 }, E5 { 4 }, E6 { 6 }, E7 { 1 },  \n",
            "F1 { 6 }, F2 { 1 }, F3 { 2 }, F4 { 4 }, F5 { 5 }, F6 { 7 }, F7 { 3 },  \n",
            "G1 { 4 }, G2 { 6 }, G3 { 1 }, G4 { 7 }, G5 { 3 }, G6 { 5 }, G7 { 2 },  \n",
            "\n",
            "\n"
          ],
          "name": "stdout"
        }
      ]
    },
    {
      "cell_type": "code",
      "metadata": {
        "id": "0xXsK-gQD_it",
        "colab_type": "code",
        "colab": {}
      },
      "source": [
        ""
      ],
      "execution_count": 0,
      "outputs": []
    },
    {
      "cell_type": "code",
      "metadata": {
        "id": "2lwh46sMD_ix",
        "colab_type": "code",
        "colab": {}
      },
      "source": [
        ""
      ],
      "execution_count": 0,
      "outputs": []
    }
  ]
}